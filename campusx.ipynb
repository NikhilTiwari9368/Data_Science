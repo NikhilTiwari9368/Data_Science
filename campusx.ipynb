{
 "cells": [
  {
   "cell_type": "code",
   "execution_count": 1,
   "id": "e8edf705",
   "metadata": {},
   "outputs": [],
   "source": [
    "import json "
   ]
  },
  {
   "cell_type": "code",
   "execution_count": 2,
   "id": "09891ca3",
   "metadata": {},
   "outputs": [],
   "source": [
    "l = [1,2,3,4]\n",
    "\n",
    "with open('demo.json','w') as f:\n",
    "    json.dump(l,f)"
   ]
  },
  {
   "cell_type": "code",
   "execution_count": 5,
   "id": "f84ff60d",
   "metadata": {},
   "outputs": [],
   "source": [
    "\n",
    "#serialisation \n",
    "# convert the python data type into json \n",
    "d = {\n",
    "    'name' : 'nitish',\n",
    "    'age' : 33,\n",
    "    'gender' : 'male'\n",
    "}\n",
    "\n",
    "with open('demo.json' , 'w') as f:\n",
    "    json.dump(d,f,indent=4)"
   ]
  },
  {
   "cell_type": "code",
   "execution_count": 6,
   "id": "f47e55f5",
   "metadata": {},
   "outputs": [],
   "source": [
    "#deserialization \n",
    "# convert the json file into the python data type"
   ]
  },
  {
   "cell_type": "code",
   "execution_count": 7,
   "id": "3d9a2642",
   "metadata": {},
   "outputs": [
    {
     "name": "stdout",
     "output_type": "stream",
     "text": [
      "{'name': 'nitish', 'age': 33, 'gender': 'male'}\n",
      "<class 'dict'>\n"
     ]
    }
   ],
   "source": [
    "import json \n",
    "\n",
    "with open('demo.json','r') as f:\n",
    "    d = json.load(f)\n",
    "    print(d)\n",
    "    print(type(d))"
   ]
  },
  {
   "cell_type": "code",
   "execution_count": 8,
   "id": "97156e6d",
   "metadata": {},
   "outputs": [],
   "source": [
    " # serialize and deserialize tuple "
   ]
  },
  {
   "cell_type": "code",
   "execution_count": null,
   "id": "84865409",
   "metadata": {},
   "outputs": [],
   "source": [
    "import json \n",
    "def show_object(person):\n",
    "    if instance(person,Person):\n",
    "        return {'name':person.fname +' ' + person.lname}"
   ]
  }
 ],
 "metadata": {
  "kernelspec": {
   "display_name": "Python 3 (ipykernel)",
   "language": "python",
   "name": "python3"
  },
  "language_info": {
   "codemirror_mode": {
    "name": "ipython",
    "version": 3
   },
   "file_extension": ".py",
   "mimetype": "text/x-python",
   "name": "python",
   "nbconvert_exporter": "python",
   "pygments_lexer": "ipython3",
   "version": "3.10.3"
  }
 },
 "nbformat": 4,
 "nbformat_minor": 5
}

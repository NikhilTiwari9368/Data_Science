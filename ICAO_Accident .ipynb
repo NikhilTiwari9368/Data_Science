{
 "cells": [
  {
   "cell_type": "code",
   "execution_count": 43,
   "id": "d9ee31a7",
   "metadata": {},
   "outputs": [],
   "source": [
    "import pandas as pd \n",
    "import numpy as np \n",
    "import matplotlib.pyplot as plt \n",
    "import seaborn as sns \n",
    "import warnings \n",
    "warnings.filterwarnings('ignore')"
   ]
  },
  {
   "cell_type": "code",
   "execution_count": 44,
   "id": "3e172c2b",
   "metadata": {},
   "outputs": [],
   "source": [
    "data = pd.read_csv(\"ICAO_accidents.csv\")"
   ]
  },
  {
   "cell_type": "code",
   "execution_count": 45,
   "id": "1876dc60",
   "metadata": {},
   "outputs": [
    {
     "data": {
      "text/html": [
       "<div>\n",
       "<style scoped>\n",
       "    .dataframe tbody tr th:only-of-type {\n",
       "        vertical-align: middle;\n",
       "    }\n",
       "\n",
       "    .dataframe tbody tr th {\n",
       "        vertical-align: top;\n",
       "    }\n",
       "\n",
       "    .dataframe thead th {\n",
       "        text-align: right;\n",
       "    }\n",
       "</style>\n",
       "<table border=\"1\" class=\"dataframe\">\n",
       "  <thead>\n",
       "    <tr style=\"text-align: right;\">\n",
       "      <th></th>\n",
       "      <th>Unnamed: 0</th>\n",
       "      <th>Date</th>\n",
       "      <th>StateOfOccurrence</th>\n",
       "      <th>Location</th>\n",
       "      <th>Model</th>\n",
       "      <th>Registration</th>\n",
       "      <th>Operator</th>\n",
       "      <th>StateOfOperator</th>\n",
       "      <th>StateOfRegistry</th>\n",
       "      <th>FlightPhase</th>\n",
       "      <th>...</th>\n",
       "      <th>InjuryLevel</th>\n",
       "      <th>TypeDesignator</th>\n",
       "      <th>Helicopter</th>\n",
       "      <th>Airplane</th>\n",
       "      <th>Engines</th>\n",
       "      <th>EngineType</th>\n",
       "      <th>Official</th>\n",
       "      <th>OccCats</th>\n",
       "      <th>Risk</th>\n",
       "      <th>Year</th>\n",
       "    </tr>\n",
       "  </thead>\n",
       "  <tbody>\n",
       "    <tr>\n",
       "      <th>0</th>\n",
       "      <td>0</td>\n",
       "      <td>\"2008-01-02T00:00:00.000Z\"</td>\n",
       "      <td>PHL</td>\n",
       "      <td>Masbate Airport (MBT)</td>\n",
       "      <td>NAMC YS11 A</td>\n",
       "      <td>RP-C3592</td>\n",
       "      <td>Philippines Asian Spirit</td>\n",
       "      <td>PHL</td>\n",
       "      <td>PHL</td>\n",
       "      <td>Landing</td>\n",
       "      <td>...</td>\n",
       "      <td>None</td>\n",
       "      <td>YS11</td>\n",
       "      <td>NaN</td>\n",
       "      <td>True</td>\n",
       "      <td>2</td>\n",
       "      <td>Turboprop</td>\n",
       "      <td>True</td>\n",
       "      <td>[\"RE\"]</td>\n",
       "      <td>RS</td>\n",
       "      <td>2008</td>\n",
       "    </tr>\n",
       "    <tr>\n",
       "      <th>1</th>\n",
       "      <td>1</td>\n",
       "      <td>\"2008-01-02T00:00:00.000Z\"</td>\n",
       "      <td>IRN</td>\n",
       "      <td>Tehran-Mehrabad Airport (THR)</td>\n",
       "      <td>FOKKER F27 100</td>\n",
       "      <td>EP-IDB</td>\n",
       "      <td>Iran, Islamic Republic Of Iran National Airlin...</td>\n",
       "      <td>IRN</td>\n",
       "      <td>IRN</td>\n",
       "      <td>Take-off</td>\n",
       "      <td>...</td>\n",
       "      <td>None</td>\n",
       "      <td>F27</td>\n",
       "      <td>NaN</td>\n",
       "      <td>True</td>\n",
       "      <td>2</td>\n",
       "      <td>Turboprop</td>\n",
       "      <td>True</td>\n",
       "      <td>[\"F-POST\",\"ICE\"]</td>\n",
       "      <td>OTH</td>\n",
       "      <td>2008</td>\n",
       "    </tr>\n",
       "    <tr>\n",
       "      <th>2</th>\n",
       "      <td>2</td>\n",
       "      <td>\"2008-01-03T00:00:00.000Z\"</td>\n",
       "      <td>USA</td>\n",
       "      <td>Oklahoma City</td>\n",
       "      <td>PILATUS PC12</td>\n",
       "      <td>N398J</td>\n",
       "      <td>NaN</td>\n",
       "      <td>NaN</td>\n",
       "      <td>USA</td>\n",
       "      <td>Standing</td>\n",
       "      <td>...</td>\n",
       "      <td>Fatal</td>\n",
       "      <td>PC12</td>\n",
       "      <td>False</td>\n",
       "      <td>True</td>\n",
       "      <td>1</td>\n",
       "      <td>Turboprop</td>\n",
       "      <td>NaN</td>\n",
       "      <td>[\"RAMP\"]</td>\n",
       "      <td>RS</td>\n",
       "      <td>2008</td>\n",
       "    </tr>\n",
       "    <tr>\n",
       "      <th>3</th>\n",
       "      <td>3</td>\n",
       "      <td>\"2008-01-04T00:00:00.000Z\"</td>\n",
       "      <td>VEN</td>\n",
       "      <td>A 20 NM del VOR del Gran Roque</td>\n",
       "      <td>LET L410 UVP</td>\n",
       "      <td>YV2081</td>\n",
       "      <td>Venezuela</td>\n",
       "      <td>VEN</td>\n",
       "      <td>VEN</td>\n",
       "      <td>En route</td>\n",
       "      <td>...</td>\n",
       "      <td>Fatal</td>\n",
       "      <td>L410</td>\n",
       "      <td>NaN</td>\n",
       "      <td>True</td>\n",
       "      <td>2</td>\n",
       "      <td>Turboprop</td>\n",
       "      <td>True</td>\n",
       "      <td>[\"SCF-PP\"]</td>\n",
       "      <td>SCF</td>\n",
       "      <td>2008</td>\n",
       "    </tr>\n",
       "    <tr>\n",
       "      <th>4</th>\n",
       "      <td>4</td>\n",
       "      <td>\"2008-01-05T00:00:00.000Z\"</td>\n",
       "      <td>USA</td>\n",
       "      <td>Kodiak</td>\n",
       "      <td>PIPER PA31P 350</td>\n",
       "      <td>N509FN</td>\n",
       "      <td>NaN</td>\n",
       "      <td>NaN</td>\n",
       "      <td>USA</td>\n",
       "      <td>Take-off</td>\n",
       "      <td>...</td>\n",
       "      <td>Fatal</td>\n",
       "      <td>PA47</td>\n",
       "      <td>False</td>\n",
       "      <td>True</td>\n",
       "      <td>1</td>\n",
       "      <td>Jet</td>\n",
       "      <td>NaN</td>\n",
       "      <td>[\"LOC-I\",\"SCF-NP\"]</td>\n",
       "      <td>LOC-I</td>\n",
       "      <td>2008</td>\n",
       "    </tr>\n",
       "  </tbody>\n",
       "</table>\n",
       "<p>5 rows × 25 columns</p>\n",
       "</div>"
      ],
      "text/plain": [
       "   Unnamed: 0                        Date StateOfOccurrence  \\\n",
       "0           0  \"2008-01-02T00:00:00.000Z\"               PHL   \n",
       "1           1  \"2008-01-02T00:00:00.000Z\"               IRN   \n",
       "2           2  \"2008-01-03T00:00:00.000Z\"               USA   \n",
       "3           3  \"2008-01-04T00:00:00.000Z\"               VEN   \n",
       "4           4  \"2008-01-05T00:00:00.000Z\"               USA   \n",
       "\n",
       "                         Location            Model Registration  \\\n",
       "0           Masbate Airport (MBT)      NAMC YS11 A     RP-C3592   \n",
       "1   Tehran-Mehrabad Airport (THR)   FOKKER F27 100       EP-IDB   \n",
       "2                   Oklahoma City     PILATUS PC12        N398J   \n",
       "3  A 20 NM del VOR del Gran Roque     LET L410 UVP       YV2081   \n",
       "4                          Kodiak  PIPER PA31P 350       N509FN   \n",
       "\n",
       "                                            Operator StateOfOperator  \\\n",
       "0                           Philippines Asian Spirit             PHL   \n",
       "1  Iran, Islamic Republic Of Iran National Airlin...             IRN   \n",
       "2                                                NaN             NaN   \n",
       "3                                         Venezuela              VEN   \n",
       "4                                                NaN             NaN   \n",
       "\n",
       "  StateOfRegistry FlightPhase  ... InjuryLevel  TypeDesignator  Helicopter  \\\n",
       "0             PHL     Landing  ...        None            YS11         NaN   \n",
       "1             IRN    Take-off  ...        None             F27         NaN   \n",
       "2             USA    Standing  ...       Fatal            PC12       False   \n",
       "3             VEN    En route  ...       Fatal            L410         NaN   \n",
       "4             USA    Take-off  ...       Fatal            PA47       False   \n",
       "\n",
       "  Airplane Engines EngineType Official             OccCats   Risk  Year  \n",
       "0     True       2  Turboprop     True              [\"RE\"]     RS  2008  \n",
       "1     True       2  Turboprop     True    [\"F-POST\",\"ICE\"]    OTH  2008  \n",
       "2     True       1  Turboprop      NaN            [\"RAMP\"]     RS  2008  \n",
       "3     True       2  Turboprop     True          [\"SCF-PP\"]    SCF  2008  \n",
       "4     True       1        Jet      NaN  [\"LOC-I\",\"SCF-NP\"]  LOC-I  2008  \n",
       "\n",
       "[5 rows x 25 columns]"
      ]
     },
     "execution_count": 45,
     "metadata": {},
     "output_type": "execute_result"
    }
   ],
   "source": [
    "data.head()"
   ]
  },
  {
   "cell_type": "code",
   "execution_count": 46,
   "id": "e66da9f2",
   "metadata": {},
   "outputs": [
    {
     "data": {
      "text/html": [
       "<div>\n",
       "<style scoped>\n",
       "    .dataframe tbody tr th:only-of-type {\n",
       "        vertical-align: middle;\n",
       "    }\n",
       "\n",
       "    .dataframe tbody tr th {\n",
       "        vertical-align: top;\n",
       "    }\n",
       "\n",
       "    .dataframe thead th {\n",
       "        text-align: right;\n",
       "    }\n",
       "</style>\n",
       "<table border=\"1\" class=\"dataframe\">\n",
       "  <thead>\n",
       "    <tr style=\"text-align: right;\">\n",
       "      <th></th>\n",
       "      <th>Unnamed: 0</th>\n",
       "      <th>Date</th>\n",
       "      <th>StateOfOccurrence</th>\n",
       "      <th>Location</th>\n",
       "      <th>Model</th>\n",
       "      <th>Registration</th>\n",
       "      <th>Operator</th>\n",
       "      <th>StateOfOperator</th>\n",
       "      <th>StateOfRegistry</th>\n",
       "      <th>FlightPhase</th>\n",
       "      <th>...</th>\n",
       "      <th>InjuryLevel</th>\n",
       "      <th>TypeDesignator</th>\n",
       "      <th>Helicopter</th>\n",
       "      <th>Airplane</th>\n",
       "      <th>Engines</th>\n",
       "      <th>EngineType</th>\n",
       "      <th>Official</th>\n",
       "      <th>OccCats</th>\n",
       "      <th>Risk</th>\n",
       "      <th>Year</th>\n",
       "    </tr>\n",
       "  </thead>\n",
       "  <tbody>\n",
       "    <tr>\n",
       "      <th>6107</th>\n",
       "      <td>42</td>\n",
       "      <td>\"2022-05-11T00:00:00.000Z\"</td>\n",
       "      <td>CMR</td>\n",
       "      <td>near Nanga Eboko</td>\n",
       "      <td>Viking DHC-6 Twin Otter 400</td>\n",
       "      <td>TJ-TIM</td>\n",
       "      <td>Caverton Helicopters</td>\n",
       "      <td>NaN</td>\n",
       "      <td>CMR</td>\n",
       "      <td>En route</td>\n",
       "      <td>...</td>\n",
       "      <td>Fatal</td>\n",
       "      <td>DHC6</td>\n",
       "      <td>False</td>\n",
       "      <td>True</td>\n",
       "      <td>2</td>\n",
       "      <td>Turboprop</td>\n",
       "      <td>NaN</td>\n",
       "      <td>[]</td>\n",
       "      <td>LOC-I</td>\n",
       "      <td>2022</td>\n",
       "    </tr>\n",
       "    <tr>\n",
       "      <th>6108</th>\n",
       "      <td>43</td>\n",
       "      <td>\"2022-05-12T00:00:00.000Z\"</td>\n",
       "      <td>CHN</td>\n",
       "      <td>Chongqing-Jiangbei International Airport (CKG)</td>\n",
       "      <td>Airbus A319-115 (WL)</td>\n",
       "      <td>B-6425</td>\n",
       "      <td>Tibet Airlines</td>\n",
       "      <td>CHN</td>\n",
       "      <td>CHN</td>\n",
       "      <td>Take-off</td>\n",
       "      <td>...</td>\n",
       "      <td>NaN</td>\n",
       "      <td>A319</td>\n",
       "      <td>False</td>\n",
       "      <td>True</td>\n",
       "      <td>2</td>\n",
       "      <td>Jet</td>\n",
       "      <td>NaN</td>\n",
       "      <td>[]</td>\n",
       "      <td>RS</td>\n",
       "      <td>2022</td>\n",
       "    </tr>\n",
       "  </tbody>\n",
       "</table>\n",
       "<p>2 rows × 25 columns</p>\n",
       "</div>"
      ],
      "text/plain": [
       "      Unnamed: 0                        Date StateOfOccurrence  \\\n",
       "6107          42  \"2022-05-11T00:00:00.000Z\"               CMR   \n",
       "6108          43  \"2022-05-12T00:00:00.000Z\"               CHN   \n",
       "\n",
       "                                             Location  \\\n",
       "6107                                 near Nanga Eboko   \n",
       "6108   Chongqing-Jiangbei International Airport (CKG)   \n",
       "\n",
       "                            Model Registration              Operator  \\\n",
       "6107  Viking DHC-6 Twin Otter 400       TJ-TIM  Caverton Helicopters   \n",
       "6108         Airbus A319-115 (WL)       B-6425        Tibet Airlines   \n",
       "\n",
       "     StateOfOperator StateOfRegistry FlightPhase  ... InjuryLevel  \\\n",
       "6107             NaN             CMR    En route  ...       Fatal   \n",
       "6108             CHN             CHN    Take-off  ...         NaN   \n",
       "\n",
       "      TypeDesignator  Helicopter Airplane Engines EngineType Official OccCats  \\\n",
       "6107            DHC6       False     True       2  Turboprop      NaN      []   \n",
       "6108            A319       False     True       2        Jet      NaN      []   \n",
       "\n",
       "       Risk  Year  \n",
       "6107  LOC-I  2022  \n",
       "6108     RS  2022  \n",
       "\n",
       "[2 rows x 25 columns]"
      ]
     },
     "execution_count": 46,
     "metadata": {},
     "output_type": "execute_result"
    }
   ],
   "source": [
    "data.tail(2)"
   ]
  },
  {
   "cell_type": "code",
   "execution_count": 47,
   "id": "792b6053",
   "metadata": {},
   "outputs": [
    {
     "data": {
      "text/plain": [
       "(6109, 25)"
      ]
     },
     "execution_count": 47,
     "metadata": {},
     "output_type": "execute_result"
    }
   ],
   "source": [
    "data.shape"
   ]
  },
  {
   "cell_type": "code",
   "execution_count": 48,
   "id": "6fcb7084",
   "metadata": {},
   "outputs": [
    {
     "data": {
      "text/plain": [
       "Index(['Unnamed: 0', 'Date', 'StateOfOccurrence', 'Location', 'Model',\n",
       "       'Registration', 'Operator', 'StateOfOperator', 'StateOfRegistry',\n",
       "       'FlightPhase', 'Class', 'Fatalities', 'Over2250', 'Over5700',\n",
       "       'ScheduledCommercial', 'InjuryLevel', 'TypeDesignator', 'Helicopter',\n",
       "       'Airplane', 'Engines', 'EngineType', 'Official', 'OccCats', 'Risk',\n",
       "       'Year'],\n",
       "      dtype='object')"
      ]
     },
     "execution_count": 48,
     "metadata": {},
     "output_type": "execute_result"
    }
   ],
   "source": [
    "data.columns"
   ]
  },
  {
   "cell_type": "code",
   "execution_count": 49,
   "id": "0c8c9de4",
   "metadata": {},
   "outputs": [
    {
     "data": {
      "text/plain": [
       "0       False\n",
       "1       False\n",
       "2       False\n",
       "3       False\n",
       "4       False\n",
       "        ...  \n",
       "6104    False\n",
       "6105    False\n",
       "6106    False\n",
       "6107    False\n",
       "6108    False\n",
       "Length: 6109, dtype: bool"
      ]
     },
     "execution_count": 49,
     "metadata": {},
     "output_type": "execute_result"
    }
   ],
   "source": [
    "data.duplicated()"
   ]
  },
  {
   "cell_type": "code",
   "execution_count": 50,
   "id": "134fcf2e",
   "metadata": {},
   "outputs": [
    {
     "data": {
      "text/plain": [
       "0"
      ]
     },
     "execution_count": 50,
     "metadata": {},
     "output_type": "execute_result"
    }
   ],
   "source": [
    "data.duplicated().sum()"
   ]
  },
  {
   "cell_type": "code",
   "execution_count": 51,
   "id": "e43c6bc4",
   "metadata": {},
   "outputs": [
    {
     "data": {
      "text/plain": [
       "Unnamed: 0                0\n",
       "Date                      0\n",
       "StateOfOccurrence       802\n",
       "Location                351\n",
       "Model                   243\n",
       "Registration              0\n",
       "Operator               1925\n",
       "StateOfOperator        4718\n",
       "StateOfRegistry           2\n",
       "FlightPhase             934\n",
       "Class                     0\n",
       "Fatalities             1141\n",
       "Over2250                  0\n",
       "Over5700                 24\n",
       "ScheduledCommercial    2832\n",
       "InjuryLevel            1955\n",
       "TypeDesignator            0\n",
       "Helicopter             1228\n",
       "Airplane                  0\n",
       "Engines                   0\n",
       "EngineType                0\n",
       "Official               4765\n",
       "OccCats                   0\n",
       "Risk                    750\n",
       "Year                      0\n",
       "dtype: int64"
      ]
     },
     "execution_count": 51,
     "metadata": {},
     "output_type": "execute_result"
    }
   ],
   "source": [
    "data.isnull().sum()"
   ]
  },
  {
   "cell_type": "code",
   "execution_count": 52,
   "id": "9073fab2",
   "metadata": {},
   "outputs": [
    {
     "name": "stdout",
     "output_type": "stream",
     "text": [
      "<class 'pandas.core.frame.DataFrame'>\n",
      "RangeIndex: 6109 entries, 0 to 6108\n",
      "Data columns (total 25 columns):\n",
      " #   Column               Non-Null Count  Dtype  \n",
      "---  ------               --------------  -----  \n",
      " 0   Unnamed: 0           6109 non-null   int64  \n",
      " 1   Date                 6109 non-null   object \n",
      " 2   StateOfOccurrence    5307 non-null   object \n",
      " 3   Location             5758 non-null   object \n",
      " 4   Model                5866 non-null   object \n",
      " 5   Registration         6109 non-null   object \n",
      " 6   Operator             4184 non-null   object \n",
      " 7   StateOfOperator      1391 non-null   object \n",
      " 8   StateOfRegistry      6107 non-null   object \n",
      " 9   FlightPhase          5175 non-null   object \n",
      " 10  Class                6109 non-null   object \n",
      " 11  Fatalities           4968 non-null   float64\n",
      " 12  Over2250             6109 non-null   bool   \n",
      " 13  Over5700             6085 non-null   object \n",
      " 14  ScheduledCommercial  3277 non-null   object \n",
      " 15  InjuryLevel          4154 non-null   object \n",
      " 16  TypeDesignator       6109 non-null   object \n",
      " 17  Helicopter           4881 non-null   object \n",
      " 18  Airplane             6109 non-null   bool   \n",
      " 19  Engines              6109 non-null   int64  \n",
      " 20  EngineType           6109 non-null   object \n",
      " 21  Official             1344 non-null   object \n",
      " 22  OccCats              6109 non-null   object \n",
      " 23  Risk                 5359 non-null   object \n",
      " 24  Year                 6109 non-null   int64  \n",
      "dtypes: bool(2), float64(1), int64(3), object(19)\n",
      "memory usage: 1.1+ MB\n"
     ]
    }
   ],
   "source": [
    "data.info()"
   ]
  },
  {
   "cell_type": "code",
   "execution_count": 53,
   "id": "3deafdc9",
   "metadata": {},
   "outputs": [
    {
     "data": {
      "text/html": [
       "<div>\n",
       "<style scoped>\n",
       "    .dataframe tbody tr th:only-of-type {\n",
       "        vertical-align: middle;\n",
       "    }\n",
       "\n",
       "    .dataframe tbody tr th {\n",
       "        vertical-align: top;\n",
       "    }\n",
       "\n",
       "    .dataframe thead th {\n",
       "        text-align: right;\n",
       "    }\n",
       "</style>\n",
       "<table border=\"1\" class=\"dataframe\">\n",
       "  <thead>\n",
       "    <tr style=\"text-align: right;\">\n",
       "      <th></th>\n",
       "      <th>Unnamed: 0</th>\n",
       "      <th>Fatalities</th>\n",
       "      <th>Engines</th>\n",
       "      <th>Year</th>\n",
       "    </tr>\n",
       "  </thead>\n",
       "  <tbody>\n",
       "    <tr>\n",
       "      <th>count</th>\n",
       "      <td>6109.000000</td>\n",
       "      <td>4968.000000</td>\n",
       "      <td>6109.000000</td>\n",
       "      <td>6109.000000</td>\n",
       "    </tr>\n",
       "    <tr>\n",
       "      <th>mean</th>\n",
       "      <td>268.898183</td>\n",
       "      <td>2.037641</td>\n",
       "      <td>1.754624</td>\n",
       "      <td>2012.993616</td>\n",
       "    </tr>\n",
       "    <tr>\n",
       "      <th>std</th>\n",
       "      <td>210.107085</td>\n",
       "      <td>12.957411</td>\n",
       "      <td>0.685855</td>\n",
       "      <td>3.918512</td>\n",
       "    </tr>\n",
       "    <tr>\n",
       "      <th>min</th>\n",
       "      <td>0.000000</td>\n",
       "      <td>0.000000</td>\n",
       "      <td>1.000000</td>\n",
       "      <td>2008.000000</td>\n",
       "    </tr>\n",
       "    <tr>\n",
       "      <th>25%</th>\n",
       "      <td>105.000000</td>\n",
       "      <td>0.000000</td>\n",
       "      <td>1.000000</td>\n",
       "      <td>2010.000000</td>\n",
       "    </tr>\n",
       "    <tr>\n",
       "      <th>50%</th>\n",
       "      <td>221.000000</td>\n",
       "      <td>0.000000</td>\n",
       "      <td>2.000000</td>\n",
       "      <td>2012.000000</td>\n",
       "    </tr>\n",
       "    <tr>\n",
       "      <th>75%</th>\n",
       "      <td>376.000000</td>\n",
       "      <td>0.000000</td>\n",
       "      <td>2.000000</td>\n",
       "      <td>2016.000000</td>\n",
       "    </tr>\n",
       "    <tr>\n",
       "      <th>max</th>\n",
       "      <td>931.000000</td>\n",
       "      <td>298.000000</td>\n",
       "      <td>6.000000</td>\n",
       "      <td>2022.000000</td>\n",
       "    </tr>\n",
       "  </tbody>\n",
       "</table>\n",
       "</div>"
      ],
      "text/plain": [
       "        Unnamed: 0   Fatalities      Engines         Year\n",
       "count  6109.000000  4968.000000  6109.000000  6109.000000\n",
       "mean    268.898183     2.037641     1.754624  2012.993616\n",
       "std     210.107085    12.957411     0.685855     3.918512\n",
       "min       0.000000     0.000000     1.000000  2008.000000\n",
       "25%     105.000000     0.000000     1.000000  2010.000000\n",
       "50%     221.000000     0.000000     2.000000  2012.000000\n",
       "75%     376.000000     0.000000     2.000000  2016.000000\n",
       "max     931.000000   298.000000     6.000000  2022.000000"
      ]
     },
     "execution_count": 53,
     "metadata": {},
     "output_type": "execute_result"
    }
   ],
   "source": [
    "data.describe()"
   ]
  },
  {
   "cell_type": "code",
   "execution_count": 54,
   "id": "4a199d05",
   "metadata": {},
   "outputs": [],
   "source": [
    "data = data[(data['ScheduledCommercial']==True ) & (data['Airplane'] == True) & (data['EngineType']==True)]"
   ]
  },
  {
   "cell_type": "code",
   "execution_count": 55,
   "id": "c9983ac8",
   "metadata": {},
   "outputs": [
    {
     "data": {
      "text/plain": [
       "Index(['Unnamed: 0', 'Date', 'StateOfOccurrence', 'Location', 'Model',\n",
       "       'Registration', 'Operator', 'StateOfOperator', 'StateOfRegistry',\n",
       "       'FlightPhase', 'Class', 'Fatalities', 'Over2250', 'Over5700',\n",
       "       'ScheduledCommercial', 'InjuryLevel', 'TypeDesignator', 'Helicopter',\n",
       "       'Airplane', 'Engines', 'EngineType', 'Official', 'OccCats', 'Risk',\n",
       "       'Year'],\n",
       "      dtype='object')"
      ]
     },
     "execution_count": 55,
     "metadata": {},
     "output_type": "execute_result"
    }
   ],
   "source": [
    "data.columns"
   ]
  },
  {
   "cell_type": "code",
   "execution_count": 56,
   "id": "5fe3c5fa",
   "metadata": {},
   "outputs": [],
   "source": [
    "data = data.drop(columns =['Unnamed: 0', 'Date', 'StateOfOccurrence', 'Location', 'Model',\n",
    "       'Registration', 'Operator', 'StateOfOperator', 'StateOfRegistry','Over2250', 'Over5700',\n",
    "       'ScheduledCommercial', 'TypeDesignator', 'Helicopter',\n",
    "       'Airplane', 'Engines', 'EngineType', 'Official', 'OccCats'])"
   ]
  },
  {
   "cell_type": "code",
   "execution_count": 60,
   "id": "a41bf9bd",
   "metadata": {},
   "outputs": [
    {
     "data": {
      "text/plain": [
       "FlightPhase    0\n",
       "Class          0\n",
       "Fatalities     0\n",
       "InjuryLevel    0\n",
       "Risk           0\n",
       "Year           0\n",
       "dtype: int64"
      ]
     },
     "execution_count": 60,
     "metadata": {},
     "output_type": "execute_result"
    }
   ],
   "source": [
    "data.nunique()"
   ]
  },
  {
   "cell_type": "code",
   "execution_count": 58,
   "id": "72f58866",
   "metadata": {},
   "outputs": [
    {
     "data": {
      "text/plain": [
       "array([], dtype=int64)"
      ]
     },
     "execution_count": 58,
     "metadata": {},
     "output_type": "execute_result"
    }
   ],
   "source": [
    "data['Year'].unique()"
   ]
  },
  {
   "cell_type": "code",
   "execution_count": 59,
   "id": "da092ec0",
   "metadata": {},
   "outputs": [
    {
     "data": {
      "text/plain": [
       "Series([], Name: Year, dtype: int64)"
      ]
     },
     "execution_count": 59,
     "metadata": {},
     "output_type": "execute_result"
    }
   ],
   "source": [
    "data['Year'].value_counts()"
   ]
  },
  {
   "cell_type": "code",
   "execution_count": null,
   "id": "89dd9d45",
   "metadata": {},
   "outputs": [],
   "source": []
  },
  {
   "cell_type": "code",
   "execution_count": null,
   "id": "d26e7089",
   "metadata": {},
   "outputs": [],
   "source": []
  }
 ],
 "metadata": {
  "kernelspec": {
   "display_name": "Python 3 (ipykernel)",
   "language": "python",
   "name": "python3"
  },
  "language_info": {
   "codemirror_mode": {
    "name": "ipython",
    "version": 3
   },
   "file_extension": ".py",
   "mimetype": "text/x-python",
   "name": "python",
   "nbconvert_exporter": "python",
   "pygments_lexer": "ipython3",
   "version": "3.10.3"
  }
 },
 "nbformat": 4,
 "nbformat_minor": 5
}
